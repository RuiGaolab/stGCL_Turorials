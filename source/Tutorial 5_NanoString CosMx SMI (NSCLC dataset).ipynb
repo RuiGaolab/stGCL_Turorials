{
 "cells": [
  {
   "cell_type": "markdown",
   "id": "c08388f0",
   "metadata": {},
   "source": [
    "# Tutorial 5: NanoString CosMx SMI (NSCLC dataset)"
   ]
  },
  {
   "cell_type": "markdown",
   "id": "6ab58de2",
   "metadata": {},
   "source": [
    "This tutorial demonstrates how to identify subcellular distributions on the NanoString CosMx SMI platform.\n",
    "\n",
    "In this tutorial, we foucs on the human non-small cell lung cancer (NSCLC, https://nanostring.com/resources/smi-ffpe-dataset-lung13-data/). Before running the model, please download the input data via https://zenodo.org/record/8137326/files/NSCLC.rar?download=1."
   ]
  },
  {
   "cell_type": "markdown",
   "id": "90ef405b",
   "metadata": {},
   "source": [
    "## Preparation"
   ]
  },
  {
   "cell_type": "code",
   "execution_count": 1,
   "id": "6ce9e0fd",
   "metadata": {},
   "outputs": [],
   "source": [
    "%matplotlib inline\n",
    "import warnings\n",
    "warnings.filterwarnings(\"ignore\")\n",
    "import squidpy as sq\n",
    "import pandas as pd\n",
    "import numpy as np\n",
    "import scanpy as sc\n",
    "import matplotlib.pyplot as plt\n",
    "import os\n",
    "import sys\n",
    "from sklearn.metrics.cluster import adjusted_rand_score\n",
    "import time\n",
    "import stGCL as stGCL\n",
    "from stGCL.process import prefilter_genes,prefilter_specialgenes,set_seed,refine_nearest_labels\n",
    "os.environ['R_HOME'] = '/home/dell/anaconda3/envs/stjupyter/lib/R'\n",
    "from stGCL import train_model\n",
    "from stGCL.utils import Cal_Spatial_Net,mclust_R\n",
    "import anndata as ad"
   ]
  },
  {
   "cell_type": "code",
   "execution_count": 2,
   "id": "a9491586",
   "metadata": {},
   "outputs": [],
   "source": [
    "section_id=\"Lung13\"\n",
    "rad_cutoff=0\n",
    "use_image=False\n",
    "seed=0\n",
    "set_seed(seed)\n",
    "top_genes = 3000\n",
    "epoch = 3000\n",
    "k=12\n",
    "fov=\"2\""
   ]
  },
  {
   "cell_type": "code",
   "execution_count": 3,
   "id": "f8b3a9c2",
   "metadata": {},
   "outputs": [
    {
     "name": "stdout",
     "output_type": "stream",
     "text": [
      "(82843, 980)\n"
     ]
    }
   ],
   "source": [
    "Ann_df = pd.read_csv(\"/home/dell/stproject/stGCL/Data/NSCLC/cell_label_13.csv\", sep=\",\", header=0,\n",
    "                     index_col=0)\n",
    "adata = sq.read.nanostring(\n",
    "    path=\"/home/dell/stproject/stGCL/Data/NSCLC\",\n",
    "    counts_file=\"{}_exprMat_file.csv\".format(section_id),\n",
    "    meta_file=\"{}_metadata_file.csv\".format(section_id),\n",
    "    fov_file=\"{}_fov_positions_file.csv\".format(section_id),\n",
    ")\n",
    "print(adata.shape)\n",
    "adata.obs[\"ground_truth\"]=Ann_df['ground_truth']"
   ]
  },
  {
   "cell_type": "code",
   "execution_count": 4,
   "id": "c536dce2",
   "metadata": {},
   "outputs": [],
   "source": [
    "adata.obs[\"ground_truth\"]=Ann_df['ground_truth']\n",
    "adata.var_names_make_unique()\n",
    "prefilter_genes(adata, min_cells=3)  # avoiding all genes are zeros\n",
    "prefilter_specialgenes(adata)\n",
    "# sc.pp.highly_variable_genes(adata, flavor=\"seurat_v3\", n_top_genes=top_genes)\n",
    "sc.pp.normalize_total(adata, target_sum=1e4)\n",
    "sc.pp.log1p(adata)\n",
    "sc.pp.scale(adata, zero_center=False, max_value=10)\n",
    "adata = adata[~pd.isnull(adata.obs['ground_truth'])]"
   ]
  },
  {
   "cell_type": "markdown",
   "id": "cd1577fb",
   "metadata": {},
   "source": [
    "## Constructing the spatial network and Runging Model"
   ]
  },
  {
   "cell_type": "code",
   "execution_count": 5,
   "id": "03d0f2f3",
   "metadata": {},
   "outputs": [
    {
     "name": "stdout",
     "output_type": "stream",
     "text": [
      "------Calculating spatial graph------\n",
      "The graph contains 0 edges, 81236 cells.\n",
      "0.0000 neighbors per cell on average.\n",
      "Neighbors information is stored in adata.uns[\"Spatial_Net\"]\n"
     ]
    }
   ],
   "source": [
    "Cal_Spatial_Net(adata, rad_cutoff=rad_cutoff)"
   ]
  },
  {
   "cell_type": "code",
   "execution_count": 6,
   "id": "55c1eddf",
   "metadata": {},
   "outputs": [
    {
     "name": "stdout",
     "output_type": "stream",
     "text": [
      "train with no image\n",
      "Epoch:100 loss:0.99229\n",
      "Epoch:200 loss:0.96924\n",
      "Epoch:300 loss:0.958\n",
      "Epoch:400 loss:0.95217\n",
      "Epoch:500 loss:0.94833\n",
      "Epoch:600 loss:0.94585\n",
      "Epoch:700 loss:0.94415\n",
      "Epoch:800 loss:0.94297\n",
      "Epoch:900 loss:0.94211\n",
      "Epoch:1000 loss:0.94144\n",
      "Epoch:1100 loss:0.94103\n",
      "Epoch:1200 loss:0.94052\n",
      "Epoch:1300 loss:0.94006\n",
      "Epoch:1400 loss:0.93967\n",
      "Epoch:1500 loss:0.93948\n",
      "Epoch:1600 loss:0.93971\n",
      "Epoch:1700 loss:0.93886\n",
      "Epoch:1800 loss:0.93863\n",
      "Epoch:1900 loss:0.93841\n",
      "Epoch:2000 loss:0.93818\n",
      "Epoch:2100 loss:0.93795\n",
      "Epoch:2200 loss:0.93775\n",
      "Epoch:2300 loss:0.93748\n",
      "Epoch:2400 loss:0.93726\n",
      "Epoch:2500 loss:0.93705\n",
      "Epoch:2600 loss:0.93684\n",
      "Epoch:2700 loss:0.93732\n",
      "Epoch:2800 loss:0.93647\n",
      "Epoch:2900 loss:0.93638\n",
      "Epoch:3000 loss:0.9375\n"
     ]
    }
   ],
   "source": [
    "adata = train_model.train(adata,k,n_epochs=epoch,use_image=use_image)"
   ]
  },
  {
   "cell_type": "code",
   "execution_count": 7,
   "id": "f4bda0af",
   "metadata": {},
   "outputs": [
    {
     "name": "stderr",
     "output_type": "stream",
     "text": [
      "R[write to console]:                    __           __ \n",
      "   ____ ___  _____/ /_  _______/ /_\n",
      "  / __ `__ \\/ ___/ / / / / ___/ __/\n",
      " / / / / / / /__/ / /_/ (__  ) /_  \n",
      "/_/ /_/ /_/\\___/_/\\__,_/____/\\__/   version 5.4.10\n",
      "Type 'citation(\"mclust\")' for citing this R package in publications.\n",
      "\n"
     ]
    },
    {
     "name": "stdout",
     "output_type": "stream",
     "text": [
      "fitting ...\n",
      "  |======================================================================| 100%\n"
     ]
    }
   ],
   "source": [
    "adata = mclust_R(adata, used_obsm='stGCL', num_cluster=k)"
   ]
  },
  {
   "cell_type": "code",
   "execution_count": 8,
   "id": "194ed4c6",
   "metadata": {},
   "outputs": [
    {
     "name": "stdout",
     "output_type": "stream",
     "text": [
      "Adjusted rand index = 0.42416\n"
     ]
    }
   ],
   "source": [
    "obs_df = adata.obs.dropna()\n",
    "ARI = adjusted_rand_score(obs_df['mclust'], obs_df['ground_truth'])\n",
    "print('Adjusted rand index = %.5f' %ARI)"
   ]
  },
  {
   "cell_type": "code",
   "execution_count": 9,
   "id": "14aa8b86",
   "metadata": {},
   "outputs": [],
   "source": [
    "coor = pd.DataFrame(adata.obsm['spatial'],columns=[\"x\",\"y\"],index=adata.obs_names)\n",
    "adata.obs[\"x\"]=coor[\"x\"]\n",
    "adata.obs[\"y\"]=coor[\"y\"]\n",
    "fov_adata = adata[adata.obs['fov']==fov]\n",
    "ax = sc.pl.scatter(fov_adata, alpha=1, x=\"x\", y=\"y\", color=\"mclust\",  legend_fontsize=18, show=True,color_map=\"Blues\",\n",
    "                       size=100000 / fov_adata.shape[0])"
   ]
  },
  {
   "cell_type": "code",
   "execution_count": null,
   "id": "99720a86",
   "metadata": {},
   "outputs": [],
   "source": []
  }
 ],
 "metadata": {
  "kernelspec": {
   "display_name": "Python 3 (ipykernel)",
   "language": "python",
   "name": "python3"
  },
  "language_info": {
   "codemirror_mode": {
    "name": "ipython",
    "version": 3
   },
   "file_extension": ".py",
   "mimetype": "text/x-python",
   "name": "python",
   "nbconvert_exporter": "python",
   "pygments_lexer": "ipython3",
   "version": "3.7.12"
  }
 },
 "nbformat": 4,
 "nbformat_minor": 5
}
