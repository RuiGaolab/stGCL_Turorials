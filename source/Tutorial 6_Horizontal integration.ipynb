{
 "cells": [
  {
   "cell_type": "markdown",
   "id": "e82862ae",
   "metadata": {},
   "source": [
    "# Tutorial 6: Horizontal integration"
   ]
  },
  {
   "cell_type": "markdown",
   "id": "643b64f4",
   "metadata": {},
   "source": [
    "In this tutorial, we demonstrate how to analyse multiple tissue slices in horizontal integration. Here we take mouse anterior and posterior brain as example. Before running the model, please download the input data via https://zenodo.org/record/8137326/files/Mouse_brain.rar?download=1."
   ]
  },
  {
   "cell_type": "markdown",
   "id": "dbc37ac0",
   "metadata": {},
   "source": [
    "## Preparation"
   ]
  },
  {
   "cell_type": "code",
   "execution_count": 1,
   "id": "4f4d951b",
   "metadata": {},
   "outputs": [],
   "source": [
    "%matplotlib inline\n",
    "import warnings\n",
    "warnings.filterwarnings(\"ignore\")\n",
    "\n",
    "import pandas as pd\n",
    "import numpy as np\n",
    "import scanpy as sc\n",
    "import matplotlib.pyplot as plt\n",
    "import os\n",
    "import sys\n",
    "from sklearn.metrics.cluster import adjusted_rand_score\n",
    "import time\n",
    "import stGCL as stGCL\n",
    "from stGCL.process import prefilter_genes,prefilter_specialgenes,set_seed,refine_nearest_labels,vertical_alignment\n",
    "os.environ['R_HOME'] = '/home/dell/anaconda3/envs/stjupyter/lib/R'\n",
    "from stGCL import train_model\n",
    "from stGCL.utils import mclust_R,Cal_Spatial_Net\n",
    "import anndata as ad\n",
    "import torch"
   ]
  },
  {
   "cell_type": "code",
   "execution_count": 2,
   "id": "c074d84d",
   "metadata": {},
   "outputs": [],
   "source": [
    "rad_cutoff = 50\n",
    "# seed=0\n",
    "# set_seed(seed)\n",
    "radius = 3\n",
    "k = 26\n",
    "top_genes = 3000\n",
    "epoch = 1200\n",
    "load = False\n",
    "section_id=\"V1_Mouse_Brain_Sagittal\""
   ]
  },
  {
   "cell_type": "code",
   "execution_count": 3,
   "id": "03296931",
   "metadata": {},
   "outputs": [],
   "source": [
    "adata_a = sc.read_visium(\"/home/dell/stproject/stGCL/Data/Mouse_brain/V1_Mouse_Brain_Sagittal_Anterior_Section_1\",\n",
    "                       count_file=\"V1_Mouse_Brain_Sagittal_Anterior_Section_1_filtered_feature_bc_matrix.h5\")\n",
    "spatial_a=pd.read_csv(\"/home/dell/stproject/stGCL/Data/Mouse_brain/V1_Mouse_Brain_Sagittal_Anterior_Section_1/spatial/tissue_positions_list.csv\",\n",
    "                    sep=\",\",header=None,na_filter=False,index_col=0)\n",
    "adata_a.obs[\"x_array\"]=spatial_a[2]\n",
    "adata_a.obs[\"y_array\"]=spatial_a[3]\n",
    "adata_a.obs[\"x_pixel\"]=spatial_a[4]\n",
    "adata_a.obs[\"y_pixel\"]=spatial_a[5]\n",
    "\n",
    "im_re_a = pd.read_csv(\"/home/dell/stproject/stGCL/Data/Mouse_brain/V1_Mouse_Brain_Sagittal_Anterior_Section_1/\"\n",
    "                    \"image_representation/ViT_pca_representation.csv\", header=0, index_col=0, sep=',')\n",
    "adata_a.obsm[\"im_re\"] = im_re_a"
   ]
  },
  {
   "cell_type": "code",
   "execution_count": 4,
   "id": "2c3a20c0",
   "metadata": {},
   "outputs": [],
   "source": [
    "adata_p = sc.read_visium(\"/home/dell/stproject/stGCL/Data/Mouse_brain/V1_Mouse_Brain_Sagittal_Posterior_Section_1\",\n",
    "                       count_file=\"V1_Mouse_Brain_Sagittal_Posterior_Section_1_filtered_feature_bc_matrix.h5\")\n",
    "spatial_p=pd.read_csv(\"/home/dell/stproject/stGCL/Data/Mouse_brain/V1_Mouse_Brain_Sagittal_Posterior_Section_1/spatial/tissue_positions_list.csv\",\n",
    "                    sep=\",\",header=None,na_filter=False,index_col=0)\n",
    "adata_p.obs[\"x_array\"]=spatial_p[2]\n",
    "adata_p.obs[\"y_array\"]=spatial_p[3]\n",
    "adata_p.obs[\"x_pixel\"]=spatial_p[4]\n",
    "adata_p.obs[\"y_pixel\"]=spatial_p[5]\n",
    "im_re_p = pd.read_csv(\"/home/dell/stproject/stGCL/Data/Mouse_brain/V1_Mouse_Brain_Sagittal_Posterior_Section_1/\"\n",
    "                    \"image_representation/ViT_pca_representation.csv\", header=0, index_col=0, sep=',')\n",
    "adata_p.obsm[\"im_re\"] = im_re_p"
   ]
  },
  {
   "cell_type": "markdown",
   "id": "c56b2464",
   "metadata": {},
   "source": [
    "## Horizontal alignment"
   ]
  },
  {
   "cell_type": "code",
   "execution_count": 5,
   "id": "1cf10412",
   "metadata": {},
   "outputs": [],
   "source": [
    "obs_a=adata_a.obs\n",
    "obs_p=adata_p.obs\n",
    "# obs_p[\"x_pixel\"]=obs_p[\"x_pixel\"]-np.min(obs_p[\"x_pixel\"])+np.min(obs_a[\"x_pixel\"])\n",
    "obs_p[\"y_pixel\"]=obs_p[\"y_pixel\"]-np.min(obs_p[\"y_pixel\"])+np.max(obs_a[\"y_pixel\"])\n",
    "obs_a[\"boundary\"]=0\n",
    "obs_p[\"boundary\"]=0\n",
    "\n",
    "for i in list(set(obs_a['x_array'])):\n",
    "    j=obs_a[obs_a['x_array']==i].max()[\"y_array\"]\n",
    "    temp=obs_a[obs_a['x_array']==i]\n",
    "    temp = temp[temp['y_array']==j].index\n",
    "    obs_a.loc[temp,\"boundary\"]=1\n",
    "\n",
    "for i in list(set(obs_p['x_array'])):\n",
    "    j=obs_p[obs_p['x_array']==i].min()[\"y_array\"]\n",
    "    temp=obs_p[obs_p['x_array']==i]\n",
    "    temp = temp[temp['y_array']==j].index\n",
    "    obs_p.loc[temp,\"boundary\"]=1\n",
    "\n",
    "mean_a_y=obs_a[obs_a[\"boundary\"]==1]['x_pixel'].mean()\n",
    "mean_p_y=obs_p[obs_p[\"boundary\"]==1]['x_pixel'].mean()\n",
    "obs_p['x_pixel']=obs_p['x_pixel']+mean_a_y-mean_p_y"
   ]
  },
  {
   "cell_type": "code",
   "execution_count": 6,
   "id": "61030b64",
   "metadata": {},
   "outputs": [],
   "source": [
    "adata_a.var_names_make_unique()\n",
    "adata_p.var_names_make_unique()\n",
    "adata_all=ad.AnnData.concatenate(adata_a, adata_p,join='inner',batch_key=\"dataset_batch\",batch_categories=[\"a\",\"p\"])\n",
    "adata_all.var_names_make_unique()"
   ]
  },
  {
   "cell_type": "code",
   "execution_count": 7,
   "id": "340f114d",
   "metadata": {},
   "outputs": [],
   "source": [
    "prefilter_genes(adata_all, min_cells=3)  # avoiding all genes are zeros\n",
    "prefilter_specialgenes(adata_all)\n",
    "sc.pp.highly_variable_genes(adata_all, flavor=\"seurat_v3\", n_top_genes=top_genes)\n",
    "sc.pp.normalize_total(adata_all, target_sum=1e4)\n",
    "sc.pp.log1p(adata_all)\n",
    "sc.pp.scale(adata_all, zero_center=False, max_value=10)"
   ]
  },
  {
   "cell_type": "code",
   "execution_count": 8,
   "id": "4b15e7a6",
   "metadata": {},
   "outputs": [],
   "source": [
    "ax=sc.pl.scatter(adata_all,alpha=1,x=\"y_pixel\",y=\"x_pixel\",color=\"boundary\",show=True,size=150000/adata_all.shape[0])"
   ]
  },
  {
   "cell_type": "code",
   "execution_count": 9,
   "id": "9d54435e",
   "metadata": {},
   "outputs": [],
   "source": [
    "ax=sc.pl.scatter(adata_all,alpha=1,x=\"y_pixel\",y=\"x_pixel\",color=\"dataset_batch\",show=True,size=150000/adata_all.shape[0])"
   ]
  },
  {
   "cell_type": "markdown",
   "id": "040548f0",
   "metadata": {},
   "source": [
    "## Constructing the spatial network and Runging Model"
   ]
  },
  {
   "cell_type": "code",
   "execution_count": 10,
   "id": "ad2e656d",
   "metadata": {},
   "outputs": [
    {
     "name": "stdout",
     "output_type": "stream",
     "text": [
      "------Calculating spatial graph------\n",
      "The graph contains 13806 edges, 6050 cells.\n",
      "2.2820 neighbors per cell on average.\n",
      "Neighbors information is stored in adata.uns[\"Spatial_Net\"]\n"
     ]
    }
   ],
   "source": [
    "Cal_Spatial_Net(adata_all, rad_cutoff=120)"
   ]
  },
  {
   "cell_type": "code",
   "execution_count": 11,
   "id": "15d12355",
   "metadata": {},
   "outputs": [
    {
     "name": "stdout",
     "output_type": "stream",
     "text": [
      "train with image\n",
      "Epoch:100 loss:0.79725\n",
      "Epoch:200 loss:0.71965\n",
      "Epoch:300 loss:0.69124\n",
      "Epoch:400 loss:0.683\n",
      "Epoch:500 loss:0.66769\n",
      "Epoch:600 loss:0.65302\n",
      "Epoch:700 loss:0.65172\n",
      "Epoch:800 loss:0.64616\n",
      "Epoch:900 loss:0.64075\n",
      "Epoch:1000 loss:0.66547\n",
      "Epoch:1100 loss:0.63379\n",
      "Epoch:1200 loss:0.63801\n",
      "Epoch:1300 loss:0.71839\n",
      "Epoch:1400 loss:0.64563\n",
      "Epoch:1500 loss:0.64054\n",
      "Epoch:1600 loss:0.68472\n",
      "Epoch:1700 loss:0.63314\n",
      "Epoch:1800 loss:0.63128\n",
      "Epoch:1900 loss:0.63509\n",
      "Epoch:2000 loss:0.6513\n"
     ]
    }
   ],
   "source": [
    "adata_ap= train_model.train(adata_all, k, n_epochs=2000, use_image=True,single=False,device = torch.device('cpu'))"
   ]
  },
  {
   "cell_type": "code",
   "execution_count": 12,
   "id": "ea3cf2b8",
   "metadata": {},
   "outputs": [
    {
     "name": "stderr",
     "output_type": "stream",
     "text": [
      "R[write to console]:                    __           __ \n",
      "   ____ ___  _____/ /_  _______/ /_\n",
      "  / __ `__ \\/ ___/ / / / / ___/ __/\n",
      " / / / / / / /__/ / /_/ (__  ) /_  \n",
      "/_/ /_/ /_/\\___/_/\\__,_/____/\\__/   version 5.4.10\n",
      "Type 'citation(\"mclust\")' for citing this R package in publications.\n",
      "\n"
     ]
    },
    {
     "name": "stdout",
     "output_type": "stream",
     "text": [
      "fitting ...\n",
      "  |======================================================================| 100%\n"
     ]
    }
   ],
   "source": [
    "adata_ap = mclust_R(adata_ap, used_obsm='stGCL', num_cluster=k)"
   ]
  },
  {
   "cell_type": "code",
   "execution_count": 13,
   "id": "564be923",
   "metadata": {},
   "outputs": [],
   "source": [
    "import matplotlib.pyplot as plt\n",
    "title = \"stGCL\"\n",
    "ax=sc.pl.scatter(adata_ap,alpha=1,x=\"y_pixel\",y=\"x_pixel\",color=\"mclust\",show=False,size=150000/adata_all.shape[0])\n",
    "ax.set_aspect('equal', 'box')\n",
    "ax.axes.invert_yaxis()\n",
    "plt.savefig(\"stGCL_{}.jpeg\".format(section_id), dpi=600)"
   ]
  },
  {
   "cell_type": "code",
   "execution_count": null,
   "id": "cc77c56d",
   "metadata": {},
   "outputs": [],
   "source": []
  },
  {
   "cell_type": "code",
   "execution_count": null,
   "id": "a921a753",
   "metadata": {},
   "outputs": [],
   "source": []
  }
 ],
 "metadata": {
  "kernelspec": {
   "display_name": "Python 3 (ipykernel)",
   "language": "python",
   "name": "python3"
  },
  "language_info": {
   "codemirror_mode": {
    "name": "ipython",
    "version": 3
   },
   "file_extension": ".py",
   "mimetype": "text/x-python",
   "name": "python",
   "nbconvert_exporter": "python",
   "pygments_lexer": "ipython3",
   "version": "3.7.12"
  }
 },
 "nbformat": 4,
 "nbformat_minor": 5
}
