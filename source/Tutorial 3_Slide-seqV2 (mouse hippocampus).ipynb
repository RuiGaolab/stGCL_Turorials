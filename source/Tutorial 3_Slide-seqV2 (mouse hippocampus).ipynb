{
 "cells": [
  {
   "cell_type": "markdown",
   "id": "fae46225",
   "metadata": {},
   "source": [
    "# Tutorial 3: Slide-seqV2 (mouse hippocampus)"
   ]
  },
  {
   "cell_type": "markdown",
   "id": "c2c265db",
   "metadata": {},
   "source": [
    "This tutorial demonstrates how to identify spatial domains on the Slide-seqV2 platform.\n",
    "\n",
    "In this tutorial, we foucs on the mouse hippocampus Slide-seqV2 data (Puck_200115_08 from https://singlecell.broadinstitute.org/single_cell/study/SCP354/slide-seq-study). Before running the model, please download the input data via https://zenodo.org/record/8137326/files/Mouse_hippocampus.rar?download=1."
   ]
  },
  {
   "cell_type": "markdown",
   "id": "4baabae0",
   "metadata": {},
   "source": [
    "## Preparation"
   ]
  },
  {
   "cell_type": "code",
   "execution_count": 1,
   "id": "ba7ed19d",
   "metadata": {},
   "outputs": [
    {
     "name": "stdout",
     "output_type": "stream",
     "text": [
      "squidpy==1.2.2\n"
     ]
    }
   ],
   "source": [
    "%matplotlib inline\n",
    "import warnings\n",
    "warnings.filterwarnings(\"ignore\")\n",
    "import squidpy as sq\n",
    "import matplotlib.pyplot as plt\n",
    "print(f\"squidpy=={sq.__version__}\")\n",
    "import warnings\n",
    "warnings.filterwarnings(\"ignore\")\n",
    "from stGCL.process import prefilter_genes,prefilter_specialgenes,set_seed,refine_nearest_labels\n",
    "set_seed(0)\n",
    "import pandas as pd\n",
    "import numpy as np\n",
    "import scanpy as sc\n",
    "import matplotlib.pyplot as plt\n",
    "import os\n",
    "import sys\n",
    "from sklearn.metrics.cluster import adjusted_rand_score\n",
    "import torch\n",
    "from stGCL.process import prefilter_genes,prefilter_specialgenes,set_seed\n",
    "os.environ['R_HOME'] = '/home/dell/anaconda3/envs/stjupyter/lib/R'\n",
    "from stGCL import train_model\n",
    "from stGCL.utils import Cal_Spatial_Net,mclust_R\n",
    "# os.environ['R_USER'] = 'D:\\ProgramData\\Anaconda3\\Lib\\site-packages/rpy2'"
   ]
  },
  {
   "cell_type": "code",
   "execution_count": 2,
   "id": "d35f2f45",
   "metadata": {},
   "outputs": [],
   "source": [
    "section_id=\"slideseqv2\"\n",
    "k = 10\n",
    "rad_cutoff = 40\n",
    "radius=50\n",
    "top_genes = 3000\n",
    "load = False\n",
    "use_image = False\n",
    "# load the pre-processed dataset\n",
    "# adata = sq.datasets.slideseqv2()\n",
    "adata = sc.read('/home/dell/stproject/stGCL/Data/Mouse_hippocampus_Slide-seqV2/filtered_feature_bc_matrix_200115_08.h5ad')"
   ]
  },
  {
   "cell_type": "code",
   "execution_count": 3,
   "id": "0a55511f",
   "metadata": {},
   "outputs": [],
   "source": [
    "prefilter_genes(adata, min_cells=3)  # avoiding all genes are zeros\n",
    "prefilter_specialgenes(adata)\n",
    "sc.pp.highly_variable_genes(adata, flavor=\"seurat_v3\", n_top_genes=top_genes)\n",
    "sc.pp.normalize_total(adata, target_sum=1e4)\n",
    "sc.pp.log1p(adata)\n",
    "sc.pp.scale(adata, zero_center=False, max_value=10)"
   ]
  },
  {
   "cell_type": "markdown",
   "id": "f1136ffe",
   "metadata": {},
   "source": [
    "## Constructing the spatial network and Runging Model"
   ]
  },
  {
   "cell_type": "code",
   "execution_count": 4,
   "id": "d60d2447",
   "metadata": {},
   "outputs": [
    {
     "name": "stdout",
     "output_type": "stream",
     "text": [
      "------Calculating spatial graph------\n",
      "The graph contains 742736 edges, 53208 cells.\n",
      "13.9591 neighbors per cell on average.\n",
      "Neighbors information is stored in adata.uns[\"Spatial_Net\"]\n"
     ]
    }
   ],
   "source": [
    "Cal_Spatial_Net(adata, rad_cutoff=rad_cutoff)"
   ]
  },
  {
   "cell_type": "code",
   "execution_count": 5,
   "id": "397e3e5d",
   "metadata": {},
   "outputs": [
    {
     "name": "stdout",
     "output_type": "stream",
     "text": [
      "train with no image\n",
      "Epoch:100 loss:0.50598\n",
      "Epoch:200 loss:0.45539\n",
      "Epoch:300 loss:0.463\n",
      "Epoch:400 loss:0.46965\n",
      "Epoch:500 loss:0.45665\n",
      "Epoch:600 loss:0.45493\n",
      "Epoch:700 loss:0.46401\n",
      "Epoch:800 loss:0.45676\n",
      "Epoch:900 loss:0.45607\n",
      "Epoch:1000 loss:0.47202\n",
      "Epoch:1100 loss:0.48573\n",
      "Epoch:1200 loss:0.46306\n"
     ]
    }
   ],
   "source": [
    "adata= train_model.train(adata, k,  use_image=use_image,device = torch.device('cpu'))"
   ]
  },
  {
   "cell_type": "code",
   "execution_count": 6,
   "id": "160c4c83",
   "metadata": {},
   "outputs": [
    {
     "name": "stderr",
     "output_type": "stream",
     "text": [
      "R[write to console]:                    __           __ \n",
      "   ____ ___  _____/ /_  _______/ /_\n",
      "  / __ `__ \\/ ___/ / / / / ___/ __/\n",
      " / / / / / / /__/ / /_/ (__  ) /_  \n",
      "/_/ /_/ /_/\\___/_/\\__,_/____/\\__/   version 5.4.10\n",
      "Type 'citation(\"mclust\")' for citing this R package in publications.\n",
      "\n"
     ]
    },
    {
     "name": "stdout",
     "output_type": "stream",
     "text": [
      "fitting ...\n",
      "  |======================================================================| 100%\n"
     ]
    }
   ],
   "source": [
    "adata = mclust_R(adata, used_obsm='stGCL', num_cluster=k)"
   ]
  },
  {
   "cell_type": "code",
   "execution_count": 7,
   "id": "ae4d5f38",
   "metadata": {},
   "outputs": [],
   "source": [
    "adata.obs['stGCL'] =refine_nearest_labels(adata, radius, key='mclust')"
   ]
  },
  {
   "cell_type": "code",
   "execution_count": 8,
   "id": "82cf43c0",
   "metadata": {},
   "outputs": [],
   "source": [
    "coor = pd.DataFrame(adata.obsm['spatial'])\n",
    "coor.index = adata.obs.index\n",
    "coor.columns = ['imagerow', 'imagecol']\n",
    "adata.obs[\"y_pixel\"]=coor['imagecol']*-1\n",
    "adata.obs[\"x_pixel\"]=coor['imagerow']"
   ]
  },
  {
   "cell_type": "code",
   "execution_count": 9,
   "id": "bcb53185",
   "metadata": {},
   "outputs": [],
   "source": [
    "ax = sc.pl.scatter(adata, alpha=1, x=\"x_pixel\", y=\"y_pixel\", color='stGCL', legend_fontsize=18, show=False,title=\"stGCL\",\n",
    "                   size=500000 / adata.shape[0])\n",
    "ax.set_aspect('equal', 'box')\n",
    "ax.axes.invert_yaxis()\n",
    "plt.savefig(\"stGCL_{}.jpeg\".format(section_id))"
   ]
  },
  {
   "cell_type": "code",
   "execution_count": null,
   "id": "59e2bbb0",
   "metadata": {},
   "outputs": [],
   "source": []
  }
 ],
 "metadata": {
  "kernelspec": {
   "display_name": "Python 3 (ipykernel)",
   "language": "python",
   "name": "python3"
  },
  "language_info": {
   "codemirror_mode": {
    "name": "ipython",
    "version": 3
   },
   "file_extension": ".py",
   "mimetype": "text/x-python",
   "name": "python",
   "nbconvert_exporter": "python",
   "pygments_lexer": "ipython3",
   "version": "3.7.12"
  }
 },
 "nbformat": 4,
 "nbformat_minor": 5
}
